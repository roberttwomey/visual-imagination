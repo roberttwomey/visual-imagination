{
 "cells": [
  {
   "cell_type": "markdown",
   "metadata": {
    "id": "nwTP4MYk0bYn"
   },
   "source": [
    "# Artificial Visual Imagination \n",
    "## Text to Image with BigGAN + CLIP + CMA-ES\n",
    "\n",
    "---\n",
    "\n",
    "BIGCLIP [j.mp/bigclip](https://j.mp/bigclip) by Eyal Gruss [@eyaler](https://twitter.com/eyaler) [eyalgruss.com](https://eyalgruss.com)\n",
    "\n",
    "\n",
    "Modified to run on nautilus.optiputer.net by robert.twomey@gmail.com"
   ]
  },
  {
   "cell_type": "markdown",
   "metadata": {},
   "source": [
    "# Start Here, Then Run All\n",
    "\n",
    "Results show up in `/work/results/` in the file browser at left"
   ]
  },
  {
   "cell_type": "code",
   "execution_count": 5,
   "metadata": {},
   "outputs": [],
   "source": [
    "# prompts = [\n",
    "#     'sculpture television buddha',\n",
    "#     'television buddha sculpture with grass',\n",
    "#     'a buddha sculpture with television in the grass',\n",
    "#     'old television in grass with buddha sculpture by pacific ocean',\n",
    "#     'old television in long grass with buddha sculpture by pacific ocean'\n",
    "# ]\n",
    "\n",
    "# prompts = [\n",
    "#     'a photo of wild tarragon',\n",
    "#     'a drawing of wild tarragon, a tasteless plant',\n",
    "#     'a painting of farm hands, a kind of laborer',\n",
    "#     'a painting of a farmer’s hands',\n",
    "#     'a self-portrait of Artemisia Gentileschi, artist',\n",
    "#     'artemisia Gentileschi is a dragon',\n",
    "#     'a painting of Artemisia Gentileschi as a dragon',\n",
    "#     'a photo of the dragon Artemisia Gentileschi',\n",
    "#     'a portrait of artist as dragon',\n",
    "#     'a drawing of a dragon',\n",
    "#     'a painting of uprooted rhizome as a dragon',\n",
    "#     'a sketch of a rhizome, uprooted',\n",
    "#     'an image of a plant rising',\n",
    "#     'a drawing of plant roots and mycorrhizal fungi',\n",
    "#     'an image of growing wiser',\n",
    "#     'a painting of wise plants',\n",
    "#     'a drawing of plant wisdom',\n",
    "#     'a photo of a plant hiding',\n",
    "#     'a drawing of hiding from elders',\n",
    "#     'a painting of Susanna and the Elders',\n",
    "#     'an image of creeps',\n",
    "#     'a painting of gazing creeps',\n",
    "#     'a painting of groping creeps',\n",
    "#     'a painting of invasive elders',\n",
    "#     'a photo of perverse hope',\n",
    "#     'a painting of your hatred',\n",
    "#     'a drawing of killing a mosquito',\n",
    "#     'a painting of a mosquito, a kind of corpse',\n",
    "#     'a drawing of malaria',\n",
    "#     'a sketch of salted fields',\n",
    "#     'a photo of dancers',\n",
    "#     'a painting of dancers in a field',\n",
    "#     'an image of your spit',\n",
    "#     'a photo of standing too close',\n",
    "#     'a painting of someone standing too close',\n",
    "#     'a drawing of an oak sapling',\n",
    "#     'a painting of an oak in an empty field',\n",
    "#     'a photo of growing',\n",
    "#     'an image of growing wilder',\n",
    "#     'a painting of growing stronger',\n",
    "#     'a photo of a hand holding high',\n",
    "#     'a painting of a hand holding the head of Holofernes',\n",
    "#     'a painting of the head of Holofernes',\n",
    "#     'a drawing of a head, blood-rooted',\n",
    "#     'an image of a bloody root',\n",
    "#     'a painting of autumn gold',\n",
    "#     'a photo of a golden gown',\n",
    "#     'an image of a mouth tasting',\n",
    "#     'a sketch of a mouth',\n",
    "#     'a drawing of taste',\n",
    "#     'a painting of the taste of nothing',\n",
    "#     'a photograph of being invisible',\n",
    "#     'a drawing of your renown',\n",
    "#     'a painting of a renowned artist',\n",
    "#     'a portrait of the artist',\n",
    "#     'a self-portrait of Artemisia Gentileschi as tarragon'\n",
    "# ]\n",
    "\n",
    "prompts = [\n",
    "    'a picture of the interior of a bedroom',\n",
    "    'a drawing of the interior of a bedroom', \n",
    "    'a photo of the interior of a bedroom', \n",
    "    'a photo of a bathroom',\n",
    "    'a photo of a kitchen', \n",
    "    'a photo of a front door'\n",
    "]\n",
    "seed = 1#3\n",
    "iterations = 40#100#50"
   ]
  },
  {
   "cell_type": "markdown",
   "metadata": {},
   "source": [
    "# 1. Imports to start session"
   ]
  },
  {
   "cell_type": "markdown",
   "metadata": {},
   "source": [
    "Imports:"
   ]
  },
  {
   "cell_type": "code",
   "execution_count": 1,
   "metadata": {},
   "outputs": [],
   "source": [
    "# OPTIONAL: if you want to have more information on what's happening, activate the logger as follows\n",
    "import logging\n",
    "logging.basicConfig(level=logging.WARNING)\n",
    "\n",
    "from pytorch_pretrained_biggan import BigGAN\n",
    "# load BigGAN below\n",
    "last_gen_model = None\n",
    "# last_gen_model = 'biggan-deep-512'\n",
    "# biggan_model = BigGAN.from_pretrained(last_gen_model).cuda().eval()"
   ]
  },
  {
   "cell_type": "code",
   "execution_count": 2,
   "metadata": {},
   "outputs": [
    {
     "name": "stdout",
     "output_type": "stream",
     "text": [
      "/home/jovyan/work/visual-imagination/CLIP\n"
     ]
    }
   ],
   "source": [
    "cd CLIP"
   ]
  },
  {
   "cell_type": "code",
   "execution_count": 3,
   "metadata": {},
   "outputs": [],
   "source": [
    "import clip # load CLIP below\n",
    "last_clip_model = None\n",
    "# last_clip_model = 'ViT-B/32'\n",
    "# perceptor, preprocess = clip.load(last_clip_model)"
   ]
  },
  {
   "cell_type": "code",
   "execution_count": 4,
   "metadata": {},
   "outputs": [
    {
     "name": "stderr",
     "output_type": "stream",
     "text": [
      "[nltk_data] Downloading package wordnet to /home/jovyan/nltk_data...\n",
      "[nltk_data]   Unzipping corpora/wordnet.zip.\n"
     ]
    },
    {
     "data": {
      "text/plain": [
       "True"
      ]
     },
     "execution_count": 4,
     "metadata": {},
     "output_type": "execute_result"
    }
   ],
   "source": [
    "import nltk\n",
    "nltk.download('wordnet')"
   ]
  },
  {
   "cell_type": "markdown",
   "metadata": {},
   "source": [
    "# 2. Config"
   ]
  },
  {
   "cell_type": "markdown",
   "metadata": {},
   "source": [
    "Edit your prompt below:"
   ]
  },
  {
   "cell_type": "code",
   "execution_count": 6,
   "metadata": {},
   "outputs": [],
   "source": [
    "# prompt = 'television buddha sculpture with grass'\n",
    "# prompt = 'a buddha sculpture with television in the grass'\n",
    "# prompt = 'buddha television grass'\n",
    "# prompt = \"a clean well-lighted place\"\n",
    "# prompt = \"large bright white room fluorescent light\"\n",
    "# prompt = \"a room with good lighting\"\n",
    "\n",
    "gen_model = 'biggan-deep' #@param ['biggan-deep', 'sigmoid']\n",
    "size = '512' #@param [512, 256, 128] \n",
    "color = True #@param {type:'boolean'}\n",
    "initial_class = 'Random mix' #@param ['From prompt', 'Random class', 'Random Dirichlet', 'Random mix', 'Random embeddings'] {allow-input: true}\n",
    "optimize_class = True #@param {type:'boolean'}\n",
    "class_smoothing = 0.1 #@param {type:'number'}\n",
    "truncation = 1 #@param {type:'number'}\n",
    "stochastic_truncation = False #@param {type:'boolean'}\n",
    "optimizer = 'CMA-ES' #@param ['SGD','Adam','CMA-ES','CMA-ES+SGD','CMA-ES+Adam']\n",
    "pop_size = 50 #@param {type:'integer'}\n",
    "clip_model = 'ViT-B/32' #@param ['ViT-B/32','RN50']\n",
    "augmentations =  64#@param {type:'integer'}\n",
    "learning_rate =  0.1#@param {type:'number'}\n",
    "standartization_loss =  0#@param {type:'number'}\n",
    "minimum_entropy_loss = 0.0001 #@param {type:'number'}\n",
    "embeddings_l2_loss = 0.0001 #@param {type:'number'}\n",
    "total_variation_loss = 0.1 #@param {type:'number'}\n",
    "save_every = 5 #@param {type:'integer'}\n",
    "fps = 1 #@param {type:'number'}\n",
    "freeze_secs = 0 #@param {type:'number'}\n",
    "\n",
    "# iterations = 10 #@param {type:'integer'}\n",
    "# seed =  0#@param {type:'number'}\n",
    "# seed = 1"
   ]
  },
  {
   "cell_type": "markdown",
   "metadata": {},
   "source": [
    "# 3. Generate"
   ]
  },
  {
   "cell_type": "markdown",
   "metadata": {},
   "source": [
    "1. For **prompt** OpenAI suggest to use the template \"A photo of a X.\" or \"A photo of a X, a type of Y.\" [[paper]](https://cdn.openai.com/papers/Learning_Transferable_Visual_Models_From_Natural_Language_Supervision.pdf)\n",
    "2. For **initial_class** you can either use free text or select a special option from the drop-down list.\n",
    "3. Free text and 'From prompt' might fail to find an appropriate ImageNet class.\n",
    "4. **seed**=0 means no seed.\n"
   ]
  },
  {
   "cell_type": "markdown",
   "metadata": {},
   "source": [
    "Imports and helpers: "
   ]
  },
  {
   "cell_type": "code",
   "execution_count": 7,
   "metadata": {},
   "outputs": [],
   "source": [
    "import numpy as np\n",
    "import torch\n",
    "import torchvision\n",
    "import sys\n",
    "import imageio\n",
    "from IPython.display import HTML, Image, clear_output\n",
    "from scipy.stats import truncnorm, dirichlet\n",
    "from pytorch_pretrained_biggan import BigGAN, convert_to_images, one_hot_from_names, utils\n",
    "from nltk.corpus import wordnet as wn\n",
    "from base64 import b64encode\n",
    "from time import time\n",
    "import datetime"
   ]
  },
  {
   "cell_type": "code",
   "execution_count": 8,
   "metadata": {},
   "outputs": [
    {
     "data": {
      "text/plain": [
       "<torch._C.Generator at 0x7f513158ddb0>"
      ]
     },
     "execution_count": 8,
     "metadata": {},
     "output_type": "execute_result"
    }
   ],
   "source": [
    "# seeding\n",
    "if seed == 0:\n",
    "  seed = None\n",
    "\n",
    "# torch.manual_seed(np.random.randint(sys.maxsize))\n",
    "state = None if not seed else np.random.RandomState(seed)\n",
    "np.random.seed(seed)\n",
    "torch.manual_seed(seed)"
   ]
  },
  {
   "cell_type": "code",
   "execution_count": 9,
   "metadata": {
    "cellView": "form",
    "id": "AOWzPLrBbdxW"
   },
   "outputs": [],
   "source": [
    "# noise and class vector sizes\n",
    "noise_size = 128\n",
    "class_size = 128 if initial_class.lower()=='random embeddings' else 1000\n",
    "\n",
    "# load CLIP model unless we just used it\n",
    "if clip_model != last_clip_model:\n",
    "  perceptor, preprocess = clip.load(clip_model)\n",
    "  last_clip_model = clip_model\n",
    "\n",
    "# image resolution, model name\n",
    "channels = 3 if color else 1\n",
    "clip_res = perceptor.input_resolution.item()\n",
    "gen_model = gen_model + '-' + size\n",
    "sideX = sideY = int(size)\n",
    "\n",
    "# load BigGAN model unless we just used it\n",
    "if gen_model != last_gen_model and 'biggan' in gen_model:\n",
    "  biggan_model = BigGAN.from_pretrained(gen_model).cuda().eval()\n",
    "  last_gen_model = gen_model\n",
    "    \n",
    "# is our image smaller than the clip perceptor?\n",
    "if sideX<=clip_res and sideY<=clip_res:\n",
    "  augmentations = 1\n",
    "  print(\"augmentations\")\n",
    "\n",
    "# for CMA we produce a population of candidate vectors\n",
    "if 'CMA' not in optimizer:\n",
    "  pop_size = 1\n",
    "\n",
    "# settings for sigmoid generation\n",
    "if 'sigmoid' in gen_model:\n",
    "  optimize_class = False\n",
    "emb_factor = 0.005"
   ]
  },
  {
   "cell_type": "code",
   "execution_count": 10,
   "metadata": {},
   "outputs": [],
   "source": [
    "import cma\n",
    "from cma.sigma_adaptation import CMAAdaptSigmaCSA, CMAAdaptSigmaTPA\n",
    "import warnings\n",
    "\n",
    "warnings.simplefilter(\"ignore\", cma.evolution_strategy.InjectionWarning)"
   ]
  },
  {
   "cell_type": "code",
   "execution_count": 11,
   "metadata": {},
   "outputs": [],
   "source": [
    "# ImageNet/WordNet\n",
    "ind2name = {index: wn.of2ss('%08dn'%offset).lemma_names()[0] for offset, index in utils.IMAGENET.items()}"
   ]
  },
  {
   "cell_type": "markdown",
   "metadata": {},
   "source": [
    "Forward pass:"
   ]
  },
  {
   "cell_type": "markdown",
   "metadata": {},
   "source": [
    "Helper functions: "
   ]
  },
  {
   "cell_type": "code",
   "execution_count": 12,
   "metadata": {},
   "outputs": [],
   "source": [
    "def save(out,name):\n",
    "  with torch.no_grad():\n",
    "    out = out.cpu().numpy()\n",
    "  if 'sigmoid' in gen_model:\n",
    "    out = out*2 - 1\n",
    "  img = convert_to_images(out)[0] # saves the first image\n",
    "  imageio.imwrite(name, np.asarray(img))\n",
    "\n",
    "def save_vec(out,name):\n",
    "  with torch.no_grad():\n",
    "    vec = out.cpu().numpy()\n",
    "  np.savetxt(name, vec)\n",
    "\n",
    "def save_all_vecs(out, name):\n",
    "  with torch.no_grad():\n",
    "    vec = out.cpu().numpy()\n",
    "  np.savetxt(name, vec)\n",
    "    \n",
    "def checkin(i, best_ind, total_losses, losses, regs, out, probs=None):\n",
    "  global sample_num\n",
    "  name = outpath+'frame_%05d.jpg'%sample_num\n",
    "  save(out, name)\n",
    "  clear_output()\n",
    "  display(Image(name))  \n",
    "  stats = 'sample=%d iter=%d best: total=%.2f cos=%.2f reg=%.3f avg: total=%.2f cos=%.2f reg=%.3f std: total=%.2f cos=%.2f reg=%.3f'%(sample_num, i, total_losses[best_ind], losses[best_ind], regs[best_ind], np.mean(total_losses), np.mean(losses), np.mean(regs), np.std(total_losses), np.std(losses), np.std(regs))\n",
    "  \n",
    "  if probs is not None:\n",
    "    best = probs[best_ind]\n",
    "    inds = np.argsort(best)[::-1]\n",
    "    probs = np.array(probs)\n",
    "    stats += ' 1st=%s(%.2f) 2nd=%s(%.2f) 3rd=%s(%.2f) components: >=0.5:%.0f, >=0.3:%.0f, >=0.1:%.0f'%(ind2name[inds[0]], best[inds[0]], ind2name[inds[1]], best[inds[1]], ind2name[inds[2]], best[inds[2]], np.sum(probs >= 0.5)/pop_size,np.sum(probs >= 0.3)/pop_size,np.sum(probs >= 0.1)/pop_size)\n",
    "  print(stats)\n",
    "  print('Best index: %s' % best_ind)\n",
    "  # save best vectors\n",
    "  save_vec(noise_vector[best_ind], outpath+'noise_%05d.txt'%sample_num) # saves the first vectors\n",
    "  save_vec(class_vector[best_ind], outpath+'class_%05d.txt'%sample_num)  \n",
    "  # save all vectors\n",
    "#   save_vec(noise_vector, outpath+'all_noise_%05d.txt'%sample_num) # saves the first vectors\n",
    "#   save_vec(class_vector, outpath+'all_class_%05d.txt'%sample_num)  \n",
    "  sample_num += 1\n",
    "\n",
    "def get_output(noise_vector, class_vector):\n",
    "  if stochastic_truncation:\n",
    "    with torch.no_grad():\n",
    "      trunc_indices = noise_vector.abs() > 2*truncation\n",
    "      size = torch.count_nonzero(trunc_indices).cpu().numpy()\n",
    "      trunc = truncnorm.rvs(-2*truncation, 2*truncation, size=(1,size)).astype(np.float32)\n",
    "      noise_vector.data[trunc_indices] = torch.tensor(trunc, requires_grad='SGD' in optimizer or 'Adam' in optimizer, device='cuda')\n",
    "  else:\n",
    "    noise_vector = noise_vector.clamp(-2*truncation, 2*truncation)\n",
    "  \n",
    "  if initial_class.lower() == 'random embeddings':\n",
    "    class_vector_norm = class_vector*emb_factor\n",
    "  else:\n",
    "    class_vector_norm = class_vector.softmax(dim=-1)\n",
    "  \n",
    "  return biggan_model(noise_vector, class_vector_norm, truncation), class_vector_norm"
   ]
  },
  {
   "cell_type": "markdown",
   "metadata": {},
   "source": [
    "GAN Generation:"
   ]
  },
  {
   "cell_type": "code",
   "execution_count": 13,
   "metadata": {},
   "outputs": [],
   "source": [
    "# define forward pass\n",
    "def my_forward(self, z, class_label, truncation):\n",
    "  assert 0 < truncation <= 1\n",
    "\n",
    "  if initial_class.lower()=='random embeddings':\n",
    "    embed = class_label\n",
    "  else:\n",
    "    embed = self.embeddings(class_label)\n",
    "    \n",
    "#   print(z, embed, truncation)\n",
    "  cond_vector = torch.cat((z, embed), dim=1)\n",
    "\n",
    "  z = self.generator(cond_vector, truncation)\n",
    "  return z\n",
    "\n",
    "# set forward pass\n",
    "if gen_model == 'biggan':\n",
    "    BigGAN.forward = my_forward"
   ]
  },
  {
   "cell_type": "markdown",
   "metadata": {},
   "source": [
    "Text optimization:"
   ]
  },
  {
   "cell_type": "code",
   "execution_count": 14,
   "metadata": {},
   "outputs": [],
   "source": [
    "def ascend_txt(i, grad_step=False, show_save=False):\n",
    "  prev_class_vector_norms = []\n",
    "  regs = []\n",
    "  losses = []\n",
    "  total_losses = []\n",
    "  best_loss = np.inf\n",
    "\n",
    "  # with CMA-ES we are creating a population of outputs\n",
    "  for j in range(pop_size):\n",
    "    p_s = []\n",
    "    \n",
    "    # not doing sigmoid now\n",
    "    if 'sigmoid' in gen_model:\n",
    "      out = noise_vector[j:j+1].sigmoid().reshape(1, channels, sideY, sideX)\n",
    "      prev_class_vector_norms = None\n",
    "    else:\n",
    "      out, class_vector_norm = get_output(noise_vector[j:j+1], class_vector[j:j+1])\n",
    "      if channels==1:\n",
    "        out = out.mean(dim=1, keepdim=True)\n",
    "      if initial_class.lower() == 'random embeddings':\n",
    "        prev_class_vector_norms = None\n",
    "      else:\n",
    "        with torch.no_grad():\n",
    "          prev_class_vector_norms.append(class_vector_norm.cpu().numpy()[0])\n",
    "    \n",
    "    # grayscale conversion\n",
    "    if channels==1:\n",
    "      out = out.repeat(1,3,1,1)\n",
    "    \n",
    "    # augmentations\n",
    "    for aug in range(augmentations):\n",
    "      if sideX<=clip_res and sideY<=clip_res:\n",
    "        apper = out  \n",
    "      else:\n",
    "        size = torch.randint(int(.5*sideX), int(.98*sideX), ())\n",
    "        #size = int(sideX*torch.zeros(1,).normal_(mean=.8, std=.3).clip(.5, .95))\n",
    "        offsetx = torch.randint(0, sideX - size, ())\n",
    "        offsety = torch.randint(0, sideX - size, ())\n",
    "        apper = out[:, :, offsetx:offsetx + size, offsety:offsety + size]\n",
    "        apper = (apper+1)/2\n",
    "      apper = torch.nn.functional.interpolate(apper, clip_res, mode='bicubic')\n",
    "      apper = apper.clamp(0,1)\n",
    "      p_s.append(apper)\n",
    "    \n",
    "    into = nom(torch.cat(p_s, 0))\n",
    "    predict_clip = perceptor.encode_image(into)\n",
    "    factor = 100\n",
    "    loss = factor*(1-torch.cosine_similarity(predict_clip, target_clip).mean())\n",
    "    total_loss = loss\n",
    "    \n",
    "    if 'sigmoid' in gen_model and total_variation_loss or 'biggan' in gen_model and (standartization_loss or optimize_class and (initial_class.lower() != 'random embeddings' and minimum_entropy_loss or  initial_class.lower() == 'random embeddings' and embeddings_l2_loss)):\n",
    "      reg = 0\n",
    "      if 'sigmoid' in gen_model:\n",
    "        if total_variation_loss:\n",
    "          reg += total_variation_loss*((out[:, :, :-1, :] - out[:, :, 1:, :]).abs().mean() + (out[:, :, :, :-1] - out[:, :, :, 1:]).abs().mean())\n",
    "      elif 'biggan' in gen_model:\n",
    "        if minimum_entropy_loss and initial_class.lower() != 'random embeddings':\n",
    "          reg += minimum_entropy_loss*((-class_vector_norm*torch.log(class_vector_norm+eps)).sum()-smoothed_ent).abs()\n",
    "        elif embeddings_l2_loss and initial_class.lower() == 'random embeddings':\n",
    "          reg += embeddings_l2_loss*class_vector_norm.square().sum()\n",
    "        if standartization_loss: #https://arxiv.org/abs/1903.00925\n",
    "          mu2 = noise_vector[j:j+1].mean().square()\n",
    "          sigma2 = noise_vector[j:j+1].std().square()\n",
    "          reg += standartization_loss*(mu2+sigma2-torch.log(sigma2))\n",
    "      reg = factor*reg\n",
    "      total_loss = total_loss + reg\n",
    "      with torch.no_grad():\n",
    "        regs.append(reg.item())\n",
    "    else:\n",
    "      regs.append(0)\n",
    "    \n",
    "    # store losses\n",
    "    with torch.no_grad():\n",
    "      losses.append(loss.item())\n",
    "      total_losses.append(total_loss.item())\n",
    "        \n",
    "    if total_losses[-1]<best_loss:\n",
    "      best_loss = total_losses[-1]\n",
    "      best_ind = j\n",
    "      best_out = out\n",
    "    \n",
    "    if grad_step:    \n",
    "      optim.zero_grad()\n",
    "      total_loss.backward()\n",
    "      optim.step()\n",
    "      \n",
    "  if show_save and (i == iterations-1 or i % save_every == 0):\n",
    "    if i==iterations-1:\n",
    "      prompt_safe = prompt.replace(\" \",\"_\")\n",
    "      results_timestamp = resultspath+'%s_%s' % (prompt_safe, datetime.datetime.now().strftime('%Y%m%d_%H%M%S'))\n",
    "      save(best_out, results_timestamp+'.jpg')\n",
    "      save_vec(noise_vector[best_ind], results_timestamp+'_noise.txt')\n",
    "      save_vec(class_vector[best_ind], results_timestamp+'_class.txt')\n",
    "    if i % save_every == 0:\n",
    "      checkin(i, best_ind, total_losses, losses, regs, best_out, prev_class_vector_norms)  \n",
    "  return total_losses"
   ]
  },
  {
   "cell_type": "markdown",
   "metadata": {},
   "source": [
    "setup output path"
   ]
  },
  {
   "cell_type": "code",
   "execution_count": 15,
   "metadata": {},
   "outputs": [],
   "source": [
    "# make a fresh output directory\n",
    "outpath = \"/home/jovyan/work/output/\"\n",
    "resultspath = \"/home/jovyan/work/results/\"\n",
    "!rm -rf $outpath\n",
    "!mkdir -p $outpath\n",
    "!mkdir -p $resultspath"
   ]
  },
  {
   "cell_type": "markdown",
   "metadata": {},
   "source": [
    "Training setup:"
   ]
  },
  {
   "cell_type": "markdown",
   "metadata": {},
   "source": [
    "Main training loop: "
   ]
  },
  {
   "cell_type": "code",
   "execution_count": null,
   "metadata": {},
   "outputs": [
    {
     "data": {
      "image/jpeg": "[encoded data removed]",
      "text/plain": [
       "<IPython.core.display.Image object>"
      ]
     },
     "metadata": {},
     "output_type": "display_data"
    },
    {
     "name": "stdout",
     "output_type": "stream",
     "text": [
      "sample=7 iter=35 best: total=69.52 cos=69.50 reg=0.019 avg: total=73.99 cos=73.97 reg=0.018 std: total=2.26 cos=2.26 reg=0.008 1st=hamster(0.25) 2nd=rhinoceros_beetle(0.21) 3rd=beacon(0.07) components: >=0.5:0, >=0.3:0, >=0.1:2\n",
      "Best index: 35\n",
      "took: 191 secs (5.31 sec/iter) on GPU 0: GeForce RTX 2080 Ti (UUID: GPU-021ed8d3-0fd5-be42-d6fb-da929f4f9556)\n",
      "took: 211 secs (5.29 sec/iter) on GPU 0: GeForce RTX 2080 Ti (UUID: GPU-021ed8d3-0fd5-be42-d6fb-da929f4f9556)\n",
      "(25_w,50)-CMA-ES (mu_w=14.0,w_1=14%) in dimension 1128 (seed=nan, Sun Feb 28 22:27:02 2021)\n",
      "   Covariance matrix is diagonal\n"
     ]
    }
   ],
   "source": [
    "for prompt in prompts:\n",
    "\n",
    "    # seeding\n",
    "    if seed == 0:\n",
    "      seed = None\n",
    "\n",
    "    # torch.manual_seed(np.random.randint(sys.maxsize))\n",
    "    state = None if not seed else np.random.RandomState(seed)\n",
    "    np.random.seed(seed)\n",
    "    torch.manual_seed(seed)\n",
    "\n",
    "    # initialization\n",
    "    eps = 1e-8\n",
    "    if 'sigmoid' in gen_model:\n",
    "      noise_size = channels*sideY*sideX\n",
    "      noise_vector = np.random.rand(pop_size, noise_size).astype(np.float32)\n",
    "      noise_vector = np.log((noise_vector+eps)/(1-noise_vector+eps))\n",
    "    else:\n",
    "      noise_vector = truncnorm.rvs(-2*truncation, 2*truncation, size=(pop_size, noise_size), random_state=state).astype(np.float32) #see https://github.com/tensorflow/hub/issues/214\n",
    "\n",
    "      if initial_class.lower() == 'random class':\n",
    "        class_vector = np.ones(shape=(pop_size, class_size), dtype=np.float32)*class_smoothing/999\n",
    "        class_vector[0,np.random.randint(class_size)] = 1-class_smoothing\n",
    "      elif initial_class.lower() == 'random dirichlet':\n",
    "        class_vector = dirichlet.rvs([pop_size/class_size] * class_size, size=1, random_state=state).astype(np.float32)\n",
    "      elif initial_class.lower() == 'random mix':\n",
    "        class_vector = np.random.rand(pop_size, class_size).astype(np.float32)\n",
    "      elif initial_class.lower() == 'random embeddings':\n",
    "        class_vector = np.random.randn(pop_size, class_size).astype(np.float32)\n",
    "      else:\n",
    "        if initial_class.lower() == 'from prompt':\n",
    "          initial_class = prompt\n",
    "        try:\n",
    "          class_vector = None\n",
    "          class_vector = one_hot_from_names(initial_class, batch_size=pop_size)\n",
    "          assert class_vector is not None\n",
    "          class_vector = class_vector*(1-class_smoothing*class_size/(class_size-1))+class_smoothing/(class_size-1)\n",
    "        except Exception as e:  \n",
    "          print('Error: could not find initial_class. Try something else.')\n",
    "          raise e\n",
    "\n",
    "      if initial_class.lower() != 'random embeddings':\n",
    "        class_vector = class_vector/np.sum(class_vector,axis=-1, keepdims=True)\n",
    "        class_vector = np.log(class_vector+eps)\n",
    "      initial_class_vector = class_vector[0]\n",
    "      if initial_class.lower() == 'random mix':\n",
    "        initial_class_vector = initial_class_vector*0-np.log(class_size)\n",
    "      if initial_class.lower() == 'random embeddings':\n",
    "        initial_class_vector = initial_class_vector*0\n",
    "      class_vector = torch.tensor(class_vector, requires_grad='SGD' in optimizer or 'Adam' in optimizer, device='cuda')\n",
    "      smoothed_ent = -torch.tensor(class_smoothing*np.log(class_smoothing/999+eps)+(1-class_smoothing)*np.log(1-class_smoothing+eps), dtype=torch.float32).cuda()\n",
    "    noise_vector = torch.tensor(noise_vector, requires_grad='SGD' in optimizer or 'Adam' in optimizer, device='cuda')\n",
    "\n",
    "    if 'SGD' in optimizer or 'Adam' in optimizer:\n",
    "      params = [noise_vector]\n",
    "      if optimize_class:\n",
    "        params = params + [class_vector]\n",
    "      if 'SGD' in optimizer:\n",
    "        optim = torch.optim.SGD(params, lr=learning_rate, momentum=0.9)  \n",
    "      else:\n",
    "        optim = torch.optim.Adam(params, lr=learning_rate)\n",
    "\n",
    "    tx = clip.tokenize(prompt)\n",
    "    with torch.no_grad():\n",
    "      target_clip = perceptor.encode_text(tx.cuda())\n",
    "\n",
    "    nom = torchvision.transforms.Normalize((0.48145466, 0.4578275, 0.40821073), (0.26862954, 0.26130258, 0.27577711))\n",
    "    if 'CMA' in optimizer:\n",
    "      initial_vector = np.zeros(noise_size)\n",
    "      bounds = None\n",
    "      #if 'sigmoid' not in gen_model and not stochastic_truncation:\n",
    "      #  bounds = [-2*truncation*np.ones(noise_size),2*truncation*np.ones(noise_size)]\n",
    "      if optimize_class:\n",
    "        initial_vector = np.hstack([initial_vector, initial_class_vector])\n",
    "        #if not stochastic_truncation:\n",
    "        #  bounds[0] = list(bounds[0]) + [None]*class_size\n",
    "        #  bounds[1] = list(bounds[1]) + [None]*class_size\n",
    "      cma_opts = {'popsize': pop_size, 'seed': np.nan, 'AdaptSigma': True, 'CMA_diagonal': True, 'CMA_active': False, 'CMA_elitist':False, 'bounds':bounds}\n",
    "      cmaes = cma.CMAEvolutionStrategy(initial_vector, 1, inopts=cma_opts)\n",
    "\n",
    "    # training\n",
    "    sample_num = 0\n",
    "    machine = !nvidia-smi -L\n",
    "    start = time()\n",
    "\n",
    "    for i in range(iterations):    \n",
    "      if 'CMA' in optimizer:\n",
    "        with torch.no_grad():\n",
    "          cma_results = torch.tensor(cmaes.ask(), dtype=torch.float32).cuda()\n",
    "          if optimize_class:\n",
    "            noise_vector.data, class_vector.data = torch.split_with_sizes(cma_results, (noise_size, class_size), dim=-1)\n",
    "            class_vector.data = class_vector.data\n",
    "          else:\n",
    "            noise_vector.data = cma_results      \n",
    "      if 'SGD' in optimizer or 'Adam' in optimizer:\n",
    "        losses = ascend_txt(i, grad_step=True, show_save='CMA' not in optimizer)\n",
    "        assert noise_vector.requires_grad and noise_vector.is_leaf and (not optimize_class or class_vector.requires_grad and class_vector.is_leaf), (noise_vector.requires_grad, noise_vector.is_leaf, class_vector.requires_grad, class_vector.is_leaf)\n",
    "      if 'CMA' in optimizer:\n",
    "        with torch.no_grad():\n",
    "          losses = ascend_txt(i, show_save=True)\n",
    "          if optimize_class:\n",
    "            vectors = torch.cat([noise_vector,class_vector], dim=1)\n",
    "          else:\n",
    "            vectors = noise_vector\n",
    "          cmaes.tell(vectors.cpu().numpy(), losses)\n",
    "      if i == iterations-1 or i % save_every == 0:\n",
    "        print('took: %d secs (%.2f sec/iter) on %s'%(time()-start,(time()-start)/(i+1), machine[0]))\n",
    "\n",
    "    newdir = outpath[:-1]+\"_\"+datetime.datetime.now().strftime('%Y%m%d_%H%M%S')\n",
    "    !mv $outpath $newdir\n",
    "    !mkdir -p $outpath"
   ]
  },
  {
   "cell_type": "markdown",
   "metadata": {},
   "source": [
    "# Notes"
   ]
  },
  {
   "cell_type": "markdown",
   "metadata": {},
   "source": [
    "\n",
    "Based on SIREN+CLIP Colabs by: [@advadnoun](https://twitter.com/advadnoun), [@norod78](https://twitter.com/norod78)\n",
    "\n",
    "Other CLIP notebooks: [OpenAI tutorial](https://colab.research.google.com/github/openai/clip/blob/master/Interacting_with_CLIP.ipynb), [SIREN by @advadnoun](https://colab.research.google.com/drive/1FoHdqoqKntliaQKnMoNs3yn5EALqWtvP), [SIREN by @norod78](https://colab.research.google.com/drive/1K1vfpTEvAmxW2rnhAaALRVyis8EiLOnD), [BigGAN by @advadnoun](https://colab.research.google.com/drive/1NCceX2mbiKOSlAd_o7IU7nA9UskKN5WR), [BigGAN by @eyaler](j.mp/bigclip), [BigGAN by @tg_bomze](https://colab.research.google.com/github/tg-bomze/collection-of-notebooks/blob/master/Text2Image_v2.ipynb), [BigGAN using big-sleep library by @lucidrains](https://colab.research.google.com/drive/1MEWKbm-driRNF8PrU7ogS5o3se-ePyPb), [BigGAN story hallucinator by @bonkerfield](https://colab.research.google.com/drive/1jF8pyZ7uaNYbk9ZiVdxTOajkp8kbmkLK), [StyleGAN2-ADA Anime by @nagolinc](https://colab.research.google.com/github/nagolinc/notebooks/blob/main/TADNE_and_CLIP.ipynb) [v2](https://colab.research.google.com/github/nagolinc/notebooks/blob/main/CLIP_%2B_TADNE_(pytorch)_v2.ipynb)\n",
    "\n",
    "Using the works:\n",
    "\n",
    "https://github.com/openai/CLIP\n",
    "\n",
    "https://tfhub.dev/deepmind/biggan-deep-512\n",
    "\n",
    "https://github.com/huggingface/pytorch-pretrained-BigGAN\n",
    "\n",
    "http://www.aiartonline.com/design-2019/eyal-gruss (WanderGAN)\n",
    "\n",
    "For a curated list of more online generative tools see: [j.mp/generativetools](https://j.mp/generativetools)\n"
   ]
  },
  {
   "cell_type": "markdown",
   "metadata": {},
   "source": [
    "# Leftovers"
   ]
  },
  {
   "cell_type": "markdown",
   "metadata": {},
   "source": [
    "# ~0. One-Time Setup~"
   ]
  },
  {
   "cell_type": "markdown",
   "metadata": {},
   "source": [
    "(UPDATE: all of this has been moved to the docker image on gitlab 2021-02)"
   ]
  },
  {
   "cell_type": "code",
   "execution_count": null,
   "metadata": {
    "cellView": "form",
    "id": "EWmKTmvBg7z5"
   },
   "outputs": [],
   "source": [
    "# !nvidia-smi -L\n",
    "\n",
    "# import subprocess\n",
    "\n",
    "# CUDA_version = [s for s in subprocess.check_output([\"nvcc\", \"--version\"]).decode(\"UTF-8\").split(\", \") if s.startswith(\"release\")][0].split(\" \")[-1]\n",
    "# print(\"CUDA version:\", CUDA_version)\n",
    "\n",
    "# if CUDA_version == \"10.0\":\n",
    "#     torch_version_suffix = \"+cu101\"\n",
    "# #     torch_version_suffix = \"+cu100\"\n",
    "# elif CUDA_version == \"10.1\":\n",
    "#     torch_version_suffix = \"+cu101\"\n",
    "# elif CUDA_version == \"10.2\":\n",
    "#     torch_version_suffix = \"\"\n",
    "# else:\n",
    "#     torch_version_suffix = \"+cu110\"\n",
    "\n",
    "# !pip install torch==1.7.1{torch_version_suffix} torchvision==0.8.2{torch_version_suffix} -f https://download.pytorch.org/whl/torch_stable.html ftfy regex"
   ]
  },
  {
   "cell_type": "code",
   "execution_count": null,
   "metadata": {
    "cellView": "form",
    "id": "1SDpkkK7cU1y",
    "scrolled": true
   },
   "outputs": [],
   "source": [
    "# !pip install pytorch-pretrained-biggan\n",
    "# !pip install nltk\n",
    "# !pip install cma"
   ]
  },
  {
   "cell_type": "code",
   "execution_count": null,
   "metadata": {},
   "outputs": [],
   "source": [
    "# !sudo apt-get install -y ffmpeg"
   ]
  },
  {
   "cell_type": "markdown",
   "metadata": {},
   "source": [
    "Install code repo for CLIP:"
   ]
  },
  {
   "cell_type": "code",
   "execution_count": null,
   "metadata": {},
   "outputs": [],
   "source": [
    "# !git clone --depth 1 https://github.com/openai/CLIP"
   ]
  }
 ],
 "metadata": {
  "accelerator": "GPU",
  "colab": {
   "collapsed_sections": [],
   "machine_shape": "hm",
   "name": "WanderCLIP.ipynb",
   "private_outputs": true,
   "provenance": []
  },
  "kernelspec": {
   "display_name": "Python 3",
   "language": "python",
   "name": "python3"
  },
  "language_info": {
   "codemirror_mode": {
    "name": "ipython",
    "version": 3
   },
   "file_extension": ".py",
   "mimetype": "text/x-python",
   "name": "python",
   "nbconvert_exporter": "python",
   "pygments_lexer": "ipython3",
   "version": "3.7.6"
  }
 },
 "nbformat": 4,
 "nbformat_minor": 4
}
