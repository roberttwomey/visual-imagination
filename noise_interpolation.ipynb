{
 "cells": [
  {
   "cell_type": "markdown",
   "metadata": {
    "id": "nwTP4MYk0bYn"
   },
   "source": [
    "# Artificial Visual Imagination \n",
    "## Text to Image with BigGAN + CLIP + CMA-ES\n",
    "\n",
    "---\n",
    "\n",
    "BIGCLIP [j.mp/bigclip](https://j.mp/bigclip) by Eyal Gruss [@eyaler](https://twitter.com/eyaler) [eyalgruss.com](https://eyalgruss.com)\n",
    "\n",
    "\n",
    "Modified to run on nautilus.optiputer.net by robert.twomey@gmail.com"
   ]
  },
  {
   "cell_type": "markdown",
   "metadata": {},
   "source": [
    "# 1. Generating from Saved Vector"
   ]
  },
  {
   "cell_type": "markdown",
   "metadata": {},
   "source": [
    "from https://github.com/huggingface/pytorch-pretrained-BigGAN#usage"
   ]
  },
  {
   "cell_type": "code",
   "execution_count": 1,
   "metadata": {},
   "outputs": [],
   "source": [
    "# !pip install perlin-noise"
   ]
  },
  {
   "cell_type": "code",
   "execution_count": 2,
   "metadata": {},
   "outputs": [
    {
     "name": "stderr",
     "output_type": "stream",
     "text": [
      "[nltk_data] Downloading package wordnet to /home/jovyan/nltk_data...\n",
      "[nltk_data]   Package wordnet is already up-to-date!\n"
     ]
    },
    {
     "name": "stdout",
     "output_type": "stream",
     "text": [
      "loaded bigGAN\n"
     ]
    }
   ],
   "source": [
    "from IPython.display import HTML, clear_output\n",
    "from PIL import Image\n",
    "from IPython.display import Image as JupImage\n",
    "import numpy as np\n",
    "import nltk\n",
    "from scipy.stats import truncnorm\n",
    "\n",
    "# from biggan\n",
    "import torch\n",
    "from pytorch_pretrained_biggan import (BigGAN, one_hot_from_names, truncated_noise_sample,\n",
    "                                       save_as_images, convert_to_images) #, display_in_terminal)\n",
    "import logging\n",
    "logging.basicConfig(level=logging.WARNING)\n",
    "\n",
    "# do we need wordnet?\n",
    "nltk.download('wordnet')\n",
    "\n",
    "# load biggan\n",
    "model = BigGAN.from_pretrained('biggan-deep-512')\n",
    "print(\"loaded bigGAN\")"
   ]
  },
  {
   "cell_type": "code",
   "execution_count": 3,
   "metadata": {},
   "outputs": [],
   "source": [
    "# def save(out, name):\n",
    "#     with torch.no_grad():\n",
    "#         out = out.cpu().numpy()\n",
    "#     img = convert_to_images(out)[0]\n",
    "#     imageio.imwrite(name, np.asarray(img))"
   ]
  },
  {
   "cell_type": "code",
   "execution_count": 4,
   "metadata": {},
   "outputs": [],
   "source": [
    "# from IPython.display import Image\n",
    "# display(Image(\"output_0.png\"))"
   ]
  },
  {
   "cell_type": "markdown",
   "metadata": {},
   "source": [
    "Generate from a set of vectors"
   ]
  },
  {
   "cell_type": "markdown",
   "metadata": {},
   "source": [
    "# 2. Latent+Class Interpolation"
   ]
  },
  {
   "cell_type": "code",
   "execution_count": 5,
   "metadata": {},
   "outputs": [],
   "source": [
    "from numpy import asarray\n",
    "from numpy import vstack\n",
    "from numpy.random import randn\n",
    "from numpy.random import randint\n",
    "from numpy import arccos\n",
    "from numpy import clip\n",
    "from numpy import dot\n",
    "from numpy import sin\n",
    "from numpy import linspace\n",
    "from numpy.linalg import norm\n",
    "import os\n",
    "import glob\n",
    "\n",
    "# from\n",
    "# https://discuss.pytorch.org/t/help-regarding-slerp-function-for-generative-model-sampling/32475/4\n",
    "\n",
    "# spherical linear interpolation (slerp)\n",
    "def slerp(val, low, high):\n",
    "    omega = arccos(clip(dot(low/norm(low), high/norm(high)), -1, 1))\n",
    "    so = sin(omega)\n",
    "    if so == 0:\n",
    "        # L'Hopital's rule/LERP\n",
    "        return (1.0-val) * low + val * high\n",
    "    return sin((1.0-val)*omega) / so * low + sin(val*omega) / so * high\n",
    " \n",
    "# uniform interpolation between two points in latent space\n",
    "def interpolate_points(p1, p2, n_steps=10):\n",
    "    # interpolate ratios between the points\n",
    "    ratios = np.linspace(0, 1, num=n_steps)\n",
    "    # linear interpolate vectors\n",
    "    vectors = list()\n",
    "    for ratio in ratios:\n",
    "        v = slerp(ratio, p1, p2)\n",
    "        vectors.append(v)\n",
    "    return np.asarray(vectors)"
   ]
  },
  {
   "cell_type": "markdown",
   "metadata": {},
   "source": [
    "Interpolate between a set of vectors:"
   ]
  },
  {
   "cell_type": "code",
   "execution_count": 6,
   "metadata": {},
   "outputs": [],
   "source": [
    "# np.random.RandomState(1)\n",
    "# np.random.seed(1)\n",
    "# torch.manual_seed(1)\n",
    "\n",
    "# Prepare a input\n",
    "truncation = 1.0\n",
    "resultsbase = '/home/jovyan/work/results_wright/'\n",
    "workbase = '/home/jovyan/work/'\n",
    "interpbase = '/home/jovyan/work/interpolation'\n",
    "\n",
    "# sculptures: \n",
    "\n",
    "# class_filenames = [\n",
    "# \"work/visual-imagination/CLIP/class_sculpture television buddha.txt\",\n",
    "# \"work/visual-imagination/CLIP/class_a buddha sculpture with television in the grass.txt\",\n",
    "# \"work/visual-imagination/CLIP/class_television buddha sculpture with grass.txt\",\n",
    "# \"work/visual-imagination/CLIP/class_old television in grass with buddha sculpture by pacific ocean.txt\",\n",
    "# \"work/visual-imagination/CLIP/class_old television in long grass with buddha sculpture by pacific ocean.txt\"\n",
    "# ]\n",
    "\n",
    "# noise_filenames = [\n",
    "# \"work/visual-imagination/CLIP/noise_sculpture television buddha.txt\",\n",
    "# \"work/visual-imagination/CLIP/noise_a buddha sculpture with television in the grass.txt\",\n",
    "# \"work/visual-imagination/CLIP/noise_television buddha sculpture with grass.txt\",\n",
    "# \"work/visual-imagination/CLIP/noise_old television in grass with buddha sculpture by pacific ocean.txt\",\n",
    "# \"work/visual-imagination/CLIP/noise_old television in long grass with buddha sculpture by pacific ocean.txt\"\n",
    "# ]\n",
    "\n",
    "# prompts = [\n",
    "#     'a photo of wild tarragon',\n",
    "#     'a drawing of wild tarragon, a tasteless plant',\n",
    "#     'a painting of farm hands, a kind of laborer',\n",
    "#     'a painting of a farmer’s hands',\n",
    "#     'a self-portrait of Artemisia Gentileschi, artist',\n",
    "#     'artemisia Gentileschi is a dragon',\n",
    "#     'a painting of Artemisia Gentileschi as a dragon',\n",
    "#     'a photo of the dragon Artemisia Gentileschi',\n",
    "#     'a portrait of artist as dragon',\n",
    "#     'a drawing of a dragon',\n",
    "#     'a painting of uprooted rhizome as a dragon',\n",
    "#     'a sketch of a rhizome, uprooted',\n",
    "#     'an image of a plant rising',\n",
    "#     'a drawing of plant roots and mycorrhizal fungi',\n",
    "#     'an image of growing wiser',\n",
    "#     'a painting of wise plants',\n",
    "#     'a drawing of plant wisdom',\n",
    "#     'a photo of a plant hiding',\n",
    "#     'a drawing of hiding from elders',\n",
    "#     'a painting of Susanna and the Elders',\n",
    "#     'an image of creeps',\n",
    "#     'a painting of gazing creeps',\n",
    "#     'a painting of groping creeps',\n",
    "#     'a painting of invasive elders',\n",
    "#     'a photo of perverse hope',\n",
    "#     'a painting of your hatred',\n",
    "#     'a drawing of killing a mosquito',\n",
    "#     'a painting of a mosquito, a kind of corpse',\n",
    "#     'a drawing of malaria',\n",
    "#     'a sketch of salted fields',\n",
    "#     'a photo of dancers',\n",
    "#     'a painting of dancers in a field',\n",
    "#     'an image of your spit',\n",
    "#     'a photo of standing too close',\n",
    "#     'a painting of someone standing too close',\n",
    "#     'a drawing of an oak sapling',\n",
    "#     'a painting of an oak in an empty field',\n",
    "#     'a photo of growing',\n",
    "#     'an image of growing wilder',\n",
    "#     'a painting of growing stronger',\n",
    "#     'a photo of a hand holding high',\n",
    "#     'a painting of a hand holding the head of Holofernes',\n",
    "#     'a painting of the head of Holofernes',\n",
    "#     'a drawing of a head, blood-rooted',\n",
    "#     'an image of a bloody root',\n",
    "#     'a painting of autumn gold',\n",
    "#     'a photo of a golden gown',\n",
    "#     'an image of a mouth tasting',\n",
    "#     'a sketch of a mouth',\n",
    "#     'a drawing of taste',\n",
    "#     'a painting of the taste of nothing',\n",
    "#     'a photograph of being invisible',\n",
    "#     'a drawing of your renown',\n",
    "#     'a painting of a renowned artist',\n",
    "#     'a portrait of the artist',\n",
    "#     'a self-portrait of Artemisia Gentileschi as tarragon'\n",
    "# ]\n",
    "\n",
    "# prompts = [\n",
    "#     'a picture of the interior of a bedroom',\n",
    "#     'a drawing of the interior of a bedroom', \n",
    "#     'a photo of the interior of a bedroom', \n",
    "#     'a photo of a bathroom',\n",
    "#     'a photo of a kitchen', \n",
    "#     'a photo of a front door'\n",
    "# ]\n",
    "\n",
    "# prompts = [\n",
    "#     'a photo of a front door',\n",
    "#     'a picture of the mud room',\n",
    "#     'a photo of the kitchen', \n",
    "#     'a photo of the livingroom with television', \n",
    "#     'a photo of a couch and a television', \n",
    "#     'a photo of a family on a couch', \n",
    "#     'a picture a kitchen', \n",
    "#     'a photo of food on the kitchen counter',\n",
    "#     'a photo of a pie in the oven',\n",
    "#     'a photo of a bathroom',\n",
    "#     'a photo of the interior of a bathroom',\n",
    "#     'a photo of a person in a shower', \n",
    "#     'a photo of person brushing their teeth',\n",
    "#     'a picture of the interior of a bedroom',\n",
    "#     'a picture of a person sleeping in a bed', \n",
    "#     'a photo of a sunrise through a window'\n",
    "# ]\n",
    "\n",
    "# prompts = [\n",
    "#     \"sunrise through a window\",\n",
    "#     \"a cat in the refrigerator\"\n",
    "# ]\n",
    "\n",
    "prompts = [\n",
    "    \"over my head, I see the bronze butterfly\",\n",
    "    \"asleep on the black trunk\",\n",
    "    \"blowing like a leaf in green shadow\",   \n",
    "    \"down the ravine behind the empty house\",   \n",
    "    \"the cowbells follow one another\",   \n",
    "    \"into the distances of the afternoon\",   \n",
    "    \"to my right\",\n",
    "    \"in a field of sunlight between two pines\",   \n",
    "    \"the droppings of last year’s horses\",   \n",
    "    \"blaze up into golden stones\",\n",
    "    \"I lean back, as the evening darkens and comes on\",\n",
    "    \"a chicken hawk floats over, looking for home\",\n",
    "    \"I have wasted my life\"\n",
    "]\n",
    "\n",
    "safe_prompts = [prompt.replace(' ', '_') for prompt in prompts]\n",
    "\n",
    "# print(safe_prompts)\n",
    "\n",
    "def get_class_file(path, prompt):\n",
    "    result = glob.glob(path+'%s_*_class.txt'%prompt)\n",
    "    return(result)\n",
    "\n",
    "def get_noise_file(path, prompt):\n",
    "    result = glob.glob(path+'%s_*_noise.txt'%prompt)\n",
    "    return(result)\n",
    "\n",
    "!mkdir -p $interpbase\n",
    "\n",
    "# print(get_class_file(workbase, safe_prompts[0]))\n",
    "# print(get_noise_file(workbase, safe_prompts[0]))"
   ]
  },
  {
   "cell_type": "code",
   "execution_count": 7,
   "metadata": {},
   "outputs": [],
   "source": [
    "class_filenames = [get_class_file(resultsbase, prompt)[0] for prompt in safe_prompts]\n",
    "noise_filenames = [get_noise_file(resultsbase, prompt)[0] for prompt in safe_prompts]\n",
    "\n",
    "# print(class_filenames, noise_filenames)"
   ]
  },
  {
   "cell_type": "markdown",
   "metadata": {},
   "source": [
    "# Interpolate with Noise"
   ]
  },
  {
   "cell_type": "code",
   "execution_count": null,
   "metadata": {},
   "outputs": [],
   "source": [
    "# # for perlin noise\n",
    "# import matplotlib.pyplot as plt\n",
    "# from perlin_noise import PerlinNoise\n",
    "\n",
    "# noise = PerlinNoise(octaves=10, seed=1)\n",
    "# xpix, ypix = noise_vector.shape[0], noise_vector.shape[1]\n",
    "\n",
    "# pic = [[noise([i/xpix, j/ypix]) for j in range(xpix)] for i in range(ypix)]\n",
    "\n",
    "# plt.imshow(pic, cmap='gray')\n",
    "# plt.show()"
   ]
  },
  {
   "cell_type": "code",
   "execution_count": null,
   "metadata": {},
   "outputs": [],
   "source": [
    "# import random\n",
    "# import math\n",
    "# from PIL import Image\n",
    "\n",
    "# perm = list(range(256))\n",
    "# random.shuffle(perm)\n",
    "# perm += perm\n",
    "# dirs = [(math.cos(a * 2.0 * math.pi / 256),\n",
    "#          math.sin(a * 2.0 * math.pi / 256))\n",
    "#          for a in range(256)]\n",
    "\n",
    "# def noise(x, y, per):\n",
    "#     def surflet(gridX, gridY):\n",
    "#         distX, distY = abs(x-gridX), abs(y-gridY)\n",
    "#         polyX = 1 - 6*distX**5 + 15*distX**4 - 10*distX**3\n",
    "#         polyY = 1 - 6*distY**5 + 15*distY**4 - 10*distY**3\n",
    "#         hashed = perm[perm[int(gridX)%per] + int(gridY)%per]\n",
    "#         grad = (x-gridX)*dirs[hashed][0] + (y-gridY)*dirs[hashed][1]\n",
    "#         return polyX * polyY * grad\n",
    "#     intX, intY = int(x), int(y)\n",
    "#     return (surflet(intX+0, intY+0) + surflet(intX+1, intY+0) +\n",
    "#             surflet(intX+0, intY+1) + surflet(intX+1, intY+1))\n",
    "\n",
    "# def fBm(x, y, per, octs):\n",
    "#     val = 0\n",
    "#     for o in range(octs):\n",
    "#         val += 0.5**o * noise(x*2**o, y*2**o, per*2**o)\n",
    "#     return val\n",
    "\n",
    "# size, freq, octs, data = 256, 1/32.0, 5, []\n",
    "# for y in range(size):\n",
    "#     for x in range(size):\n",
    "#         data.append(fBm(x*freq, y*freq, int(size*freq), octs))\n",
    "# data = np.array(data).reshape(size, size)"
   ]
  },
  {
   "cell_type": "code",
   "execution_count": 3,
   "metadata": {},
   "outputs": [],
   "source": [
    "import numpy as np\n",
    "import matplotlib.pyplot as plt"
   ]
  },
  {
   "cell_type": "code",
   "execution_count": 6,
   "metadata": {},
   "outputs": [],
   "source": [
    "# from https://github.com/pvigier/perlin-numpy/issues/1\n",
    "\n",
    "def generate_perlin_noise_2d(shape, res):\n",
    "    def f(t):\n",
    "        return 6*t**5 - 15*t**4 + 10*t**3\n",
    "    \n",
    "    delta = (res[0] / shape[0], res[1] / shape[1])\n",
    "    d = (shape[0] // res[0], shape[1] // res[1])\n",
    "    grid = np.mgrid[0:res[0]:delta[0],0:res[1]:delta[1]].transpose(1, 2, 0) % 1\n",
    "    # Gradients\n",
    "    angles = 2*np.pi*np.random.rand(res[0]+1, res[1]+1)\n",
    "    gradients = np.dstack((np.cos(angles), np.sin(angles)))\n",
    "    # Make the noise tileable\n",
    "    gradients[-1,:] = gradients[0,:]\n",
    "    gradients[:,-1] = gradients[:,0]\n",
    "    # Same as before\n",
    "    g00 = gradients[0:-1,0:-1].repeat(d[0], 0).repeat(d[1], 1)\n",
    "    g10 = gradients[1:  ,0:-1].repeat(d[0], 0).repeat(d[1], 1)\n",
    "    g01 = gradients[0:-1,1:  ].repeat(d[0], 0).repeat(d[1], 1)\n",
    "    g11 = gradients[1:  ,1:  ].repeat(d[0], 0).repeat(d[1], 1)\n",
    "    # Ramps\n",
    "    n00 = np.sum(np.dstack((grid[:,:,0]  , grid[:,:,1]  )) * g00, 2)\n",
    "    n10 = np.sum(np.dstack((grid[:,:,0]-1, grid[:,:,1]  )) * g10, 2)\n",
    "    n01 = np.sum(np.dstack((grid[:,:,0]  , grid[:,:,1]-1)) * g01, 2)\n",
    "    n11 = np.sum(np.dstack((grid[:,:,0]-1, grid[:,:,1]-1)) * g11, 2)\n",
    "    # Interpolation\n",
    "    t = f(grid)\n",
    "    n0 = n00*(1-t[:,:,0]) + t[:,:,0]*n10\n",
    "    n1 = n01*(1-t[:,:,0]) + t[:,:,0]*n11\n",
    "    return np.sqrt(2)*((1-t[:,:,1])*n0 + t[:,:,1]*n1)"
   ]
  },
  {
   "cell_type": "code",
   "execution_count": 20,
   "metadata": {},
   "outputs": [],
   "source": [
    "perlin2d = generate_perlin_noise_2d((1024, 1024), (16, 16))"
   ]
  },
  {
   "cell_type": "code",
   "execution_count": 21,
   "metadata": {},
   "outputs": [
    {
     "data": {
      "text/plain": [
       "<matplotlib.image.AxesImage at 0x7f75f09ba050>"
      ]
     },
     "execution_count": 21,
     "metadata": {},
     "output_type": "execute_result"
    },
    {
     "data": {
      "image/png": "[encoded data removed]",
      "text/plain": [
       "<Figure size 432x288 with 1 Axes>"
      ]
     },
     "metadata": {
      "needs_background": "light"
     },
     "output_type": "display_data"
    }
   ],
   "source": [
    "plt.imshow(perlin2d)"
   ]
  },
  {
   "cell_type": "code",
   "execution_count": 22,
   "metadata": {},
   "outputs": [
    {
     "data": {
      "text/plain": [
       "<matplotlib.image.AxesImage at 0x7f75ea5886d0>"
      ]
     },
     "execution_count": 22,
     "metadata": {},
     "output_type": "execute_result"
    },
    {
     "data": {
      "image/png": "[encoded data removed]",
      "text/plain": [
       "<Figure size 432x288 with 1 Axes>"
      ]
     },
     "metadata": {
      "needs_background": "light"
     },
     "output_type": "display_data"
    }
   ],
   "source": [
    "from skimage.transform import resize\n",
    "img = resize(perlin2d, (1024, 128))\n",
    "# # img = data\n",
    "plt.imshow(img, cmap='gray')\n",
    "# # plt.show()"
   ]
  },
  {
   "cell_type": "code",
   "execution_count": null,
   "metadata": {},
   "outputs": [],
   "source": []
  },
  {
   "cell_type": "code",
   "execution_count": null,
   "metadata": {},
   "outputs": [],
   "source": [
    "noisebase = \"/home/jovyan/work/noise_interp\"\n",
    "!mkdir -p $noisebase\n",
    "\n",
    "num_steps = 100\n",
    "noise_noise_scale = 1.0#0.1\n",
    "class_noise_scale = 0.0\n",
    "count = 0\n",
    "\n",
    "i=0\n",
    "# files\n",
    "class_inputs = [np.loadtxt(filename) for filename in class_filenames]\n",
    "noise_inputs = [np.loadtxt(filename) for filename in noise_filenames]\n",
    "\n",
    "# interpolate\n",
    "noises = interpolate_points(noise_inputs[i], noise_inputs[(i+1)%len(class_inputs)], num_steps)\n",
    "classes = interpolate_points(class_inputs[i], class_inputs[(i+1)%len(class_inputs)], num_steps)\n",
    "\n",
    "# generate vectors\n",
    "batch_size = 10\n",
    "for j in range(0, num_steps, batch_size):\n",
    "    noise_vector = noises[j:j+batch_size]\n",
    "    noise_noise = np.random.uniform(size=noise_vector.shape)*noise_noise_scale\n",
    "    noise_vector = noise_vector + noise_noise\n",
    "\n",
    "    class_vector = classes[j:j+batch_size]\n",
    "    class_noise = np.random.uniform(size=class_vector.shape)*class_noise_scale\n",
    "    class_vector = class_vector + class_noise\n",
    "\n",
    "    # expand dims\n",
    "#     noise_vector = np.expand_dims(noise_vector, axis=0)\n",
    "#     class_vector = np.expand_dims(class_vector, axis=0)\n",
    "\n",
    "    # convert to tensors\n",
    "    noise_vector = torch.tensor(noise_vector, dtype=torch.float32)\n",
    "    class_vector = torch.tensor(class_vector, dtype=torch.float32)\n",
    "\n",
    "    # If you have a GPU, put everything on cuda\n",
    "    noise_vector = noise_vector.to('cuda')\n",
    "    noise_vector = noise_vector.clamp(-2*truncation, 2*truncation)\n",
    "    class_vector = class_vector.to('cuda')\n",
    "    class_vector = class_vector.softmax(dim=-1)\n",
    "    model.to('cuda')\n",
    "\n",
    "    # Generate an image\n",
    "    with torch.no_grad():\n",
    "        output = model(noise_vector, class_vector, truncation)\n",
    "\n",
    "    # If you have a GPU put back on CPU\n",
    "    output = output.to('cpu')\n",
    "\n",
    "#     for k in range(output.shape[0]):\n",
    "#         img = torch.unsqueeze(output[k], 0)\n",
    "#         save_as_images(img, noisebase+\"/output_%05d\" % count)\n",
    "#         # use convert_to_images instead\n",
    "#         # see https://github.com/huggingface/pytorch-pretrained-BigGAN/blob/1e18aed2dff75db51428f13b940c38b923eb4a3d/pytorch_pretrained_biggan/utils.py#L36\n",
    "#         count = count + 1\n",
    "    imgs = convert_to_images(output)\n",
    "    for img in imgs: \n",
    "        img.save(noisebase+\"/output_%05d.png\" % count)\n",
    "        count = count + 1\n",
    "        "
   ]
  },
  {
   "cell_type": "markdown",
   "metadata": {},
   "source": [
    "Render as video (mp4) with ffmpeg"
   ]
  },
  {
   "cell_type": "code",
   "execution_count": null,
   "metadata": {},
   "outputs": [],
   "source": [
    "# fps = 30\n",
    "\n",
    "# out = 'domestic_class_noise%s_%s_%s.mp4'% (fps, noise_noise_scale, class_noise_scale)\n",
    "# with open('list.txt','w') as f:\n",
    "#   for i in range(count):\n",
    "#     f.write('file %snoise_interp/output_%05d.png\\n'%(workbase, i))\n",
    "# !ffmpeg -loglevel quiet -r $fps -f concat -safe 0 -i list.txt -c:v libx264 -pix_fmt yuv420p -profile:v baseline -movflags +faststart -r $fps $out -y\n",
    "# # !echo ffmpeg -r $fps -f concat -safe 0 -i list.txt -c:v libx264 -pix_fmt yuv420p -profile:v baseline -movflags +faststart -r $fps $out -y"
   ]
  },
  {
   "cell_type": "markdown",
   "metadata": {},
   "source": [
    "# Notes"
   ]
  },
  {
   "cell_type": "markdown",
   "metadata": {},
   "source": [
    "\n",
    "Based on SIREN+CLIP Colabs by: [@advadnoun](https://twitter.com/advadnoun), [@norod78](https://twitter.com/norod78)\n",
    "\n",
    "Other CLIP notebooks: [OpenAI tutorial](https://colab.research.google.com/github/openai/clip/blob/master/Interacting_with_CLIP.ipynb), [SIREN by @advadnoun](https://colab.research.google.com/drive/1FoHdqoqKntliaQKnMoNs3yn5EALqWtvP), [SIREN by @norod78](https://colab.research.google.com/drive/1K1vfpTEvAmxW2rnhAaALRVyis8EiLOnD), [BigGAN by @advadnoun](https://colab.research.google.com/drive/1NCceX2mbiKOSlAd_o7IU7nA9UskKN5WR), [BigGAN by @eyaler](j.mp/bigclip), [BigGAN by @tg_bomze](https://colab.research.google.com/github/tg-bomze/collection-of-notebooks/blob/master/Text2Image_v2.ipynb), [BigGAN using big-sleep library by @lucidrains](https://colab.research.google.com/drive/1MEWKbm-driRNF8PrU7ogS5o3se-ePyPb), [BigGAN story hallucinator by @bonkerfield](https://colab.research.google.com/drive/1jF8pyZ7uaNYbk9ZiVdxTOajkp8kbmkLK), [StyleGAN2-ADA Anime by @nagolinc](https://colab.research.google.com/github/nagolinc/notebooks/blob/main/TADNE_and_CLIP.ipynb) [v2](https://colab.research.google.com/github/nagolinc/notebooks/blob/main/CLIP_%2B_TADNE_(pytorch)_v2.ipynb)\n",
    "\n",
    "Using the works:\n",
    "\n",
    "https://github.com/openai/CLIP\n",
    "\n",
    "https://tfhub.dev/deepmind/biggan-deep-512\n",
    "\n",
    "https://github.com/huggingface/pytorch-pretrained-BigGAN\n",
    "\n",
    "http://www.aiartonline.com/design-2019/eyal-gruss (WanderGAN)\n",
    "\n",
    "For a curated list of more online generative tools see: [j.mp/generativetools](https://j.mp/generativetools)\n"
   ]
  },
  {
   "cell_type": "markdown",
   "metadata": {},
   "source": [
    "# Leftovers"
   ]
  },
  {
   "cell_type": "markdown",
   "metadata": {},
   "source": [
    "Ex2. Interpolating between two vectors:"
   ]
  },
  {
   "cell_type": "code",
   "execution_count": null,
   "metadata": {},
   "outputs": [],
   "source": [
    "# np.random.RandomState(1)\n",
    "# np.random.seed(1)\n",
    "# torch.manual_seed(1)\n",
    "\n",
    "# num_steps = 500\n",
    "\n",
    "# # Prepare a input\n",
    "# truncation = 1.0\n",
    "# workbase = '/home/jovyan/'\n",
    "\n",
    "# # sculptures: \n",
    "\n",
    "\n",
    "# # work/visual-imagination/CLIP/class_sculpture television buddha.txt\n",
    "# # work/visual-imagination/CLIP/class_a buddha sculpture with television in the grass.txt\n",
    "# # work/visual-imagination/CLIP/class_television buddha sculpture with grass.txt\n",
    "# # work/visual-imagination/CLIP/class_old television in grass with buddha sculpture by pacific ocean.txt\n",
    "# # work/visual-imagination/CLIP/class_old television in long grass with buddha sculpture by pacific ocean.txt\n",
    "\n",
    "\n",
    "# noise1 = np.loadtxt(workbase+'work/output_20210222_195143/noise_00002.txt')\n",
    "# class1 = np.loadtxt(workbase+'work/output_20210222_195143/class_00002.txt')\n",
    "\n",
    "# noise2 = np.loadtxt(workbase+'work/output_20210222_195143/noise_00008.txt')\n",
    "# class2 = np.loadtxt(workbase+'work/output_20210222_195143/class_00008.txt')\n",
    "\n",
    "# # noise_vector = np.loadtxt(workbase+'work/visual-imagination/CLIP/noise_a room with good lighting.txt')\n",
    "# # class_vector = np.loadtxt(workbase+'work/visual-imagination/CLIP/class_a room with good lighting.txt')\n",
    "\n",
    "# # interpolate\n",
    "# noises = interpolate_points(noise1, noise2, num_steps)\n",
    "# classes = interpolate_points(class1, class2, num_steps)\n",
    "\n",
    "# # expand dims (only necessary for single vector)\n",
    "\n",
    "# for i in range(num_steps):\n",
    "    \n",
    "#     # expand dims\n",
    "#     noise_vector = np.expand_dims(noises[i], axis=0)\n",
    "#     class_vector = np.expand_dims(classes[i], axis=0)\n",
    "\n",
    "#     # convert to tensors\n",
    "#     noise_vector = torch.tensor(noise_vector, dtype=torch.float32)\n",
    "#     class_vector = torch.tensor(class_vector, dtype=torch.float32)\n",
    "\n",
    "#     print(noise_vector.shape, noise_vector.dtype, class_vector.shape, class_vector.dtype)\n",
    "\n",
    "#     # If you have a GPU, put everything on cuda\n",
    "#     noise_vector = noise_vector.to('cuda')\n",
    "#     noise_vector = noise_vector.clamp(-2*truncation, 2*truncation)\n",
    "#     class_vector = class_vector.to('cuda')\n",
    "#     class_vector = class_vector.softmax(dim=-1)\n",
    "#     model.to('cuda')\n",
    "\n",
    "#     # Generate an image\n",
    "#     with torch.no_grad():\n",
    "#         output = model(noise_vector, class_vector, truncation)\n",
    "\n",
    "#     # If you have a GPU put back on CPU\n",
    "#     output = output.to('cpu')\n",
    "\n",
    "#     # # If you have a sixtel compatible terminal you can display the images in the terminal\n",
    "#     # # (see https://github.com/saitoha/libsixel for details)\n",
    "#     # # display_in_terminal(output)\n",
    "#     save_as_images(output, workbase+\"work/output_%05d\" % i)\n",
    "# #     clear_output()\n",
    "# #     display(JupImage(\"output_%05d_0.png\" % i))\n",
    "#     i+=1"
   ]
  },
  {
   "cell_type": "markdown",
   "metadata": {},
   "source": [
    "Ex.1: Generate from a single stored noise/class vector"
   ]
  },
  {
   "cell_type": "code",
   "execution_count": null,
   "metadata": {},
   "outputs": [],
   "source": [
    "# # random seeding\n",
    "# np.random.RandomState(1)\n",
    "# np.random.seed(1)\n",
    "# torch.manual_seed(1)\n",
    "\n",
    "\n",
    "# # Prepare a input\n",
    "# truncation = 1.0\n",
    "# workbase = '/home/jovyan/'\n",
    "# noise_vector = np.loadtxt(workbase+'work/output_20210222_195143/noise_00008.txt')\n",
    "# class_vector = np.loadtxt(workbase+'work/output_20210222_195143/class_00008.txt')\n",
    "\n",
    "# # noise_vector = np.loadtxt(workbase+'work/visual-imagination/CLIP/noise_a room with good lighting.txt')\n",
    "# # class_vector = np.loadtxt(workbase+'work/visual-imagination/CLIP/class_a room with good lighting.txt')\n",
    "\n",
    "\n",
    "\n",
    "# # noise_vector = noise_vectors\n",
    "# # class_vector = class_vectors\n",
    "\n",
    "# # expand dims\n",
    "# noise_vector = np.expand_dims(noise_vector, axis=0)\n",
    "# class_vector = np.expand_dims(class_vector, axis=0)\n",
    "\n",
    "# # All in tensors\n",
    "# noise_vector = torch.tensor(noise_vector, dtype=torch.float32)\n",
    "# class_vector = torch.tensor(class_vector, dtype=torch.float32)\n",
    "\n",
    "# print(noise_vector.shape, noise_vector.dtype, class_vector.shape, class_vector.dtype)\n",
    "\n",
    "# # If you have a GPU, put everything on cuda\n",
    "# noise_vector = noise_vector.to('cuda')\n",
    "# noise_vector = noise_vector.clamp(-2*truncation, 2*truncation)\n",
    "# class_vector = class_vector.to('cuda')\n",
    "# class_vector = class_vector.softmax(dim=-1)\n",
    "# model.to('cuda')\n",
    "\n",
    "# # Generate an image\n",
    "# with torch.no_grad():\n",
    "#     output = model(noise_vector, class_vector, truncation)\n",
    "\n",
    "# # If you have a GPU put back on CPU\n",
    "# output = output.to('cpu')\n",
    "\n",
    "# # # If you have a sixtel compatible terminal you can display the images in the terminal\n",
    "# # # (see https://github.com/saitoha/libsixel for details)\n",
    "# # # display_in_terminal(output)\n",
    "# # save_as_images(output, \"output_%s\" % index)\n",
    "\n",
    "# # display(Image(\"output_0.png\"))\n",
    "\n",
    "# # # Save results as png images\n",
    "# save_as_images(output)"
   ]
  }
 ],
 "metadata": {
  "accelerator": "GPU",
  "colab": {
   "collapsed_sections": [],
   "machine_shape": "hm",
   "name": "WanderCLIP.ipynb",
   "private_outputs": true,
   "provenance": []
  },
  "kernelspec": {
   "display_name": "Python 3",
   "language": "python",
   "name": "python3"
  },
  "language_info": {
   "codemirror_mode": {
    "name": "ipython",
    "version": 3
   },
   "file_extension": ".py",
   "mimetype": "text/x-python",
   "name": "python",
   "nbconvert_exporter": "python",
   "pygments_lexer": "ipython3",
   "version": "3.7.6"
  }
 },
 "nbformat": 4,
 "nbformat_minor": 4
}
